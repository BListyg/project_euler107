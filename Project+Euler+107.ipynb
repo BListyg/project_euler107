{
 "cells": [
  {
   "cell_type": "markdown",
   "metadata": {},
   "source": [
    "# Project Euler 107 *(in - progress)*"
   ]
  },
  {
   "cell_type": "code",
   "execution_count": null,
   "metadata": {
    "collapsed": true
   },
   "outputs": [],
   "source": [
    "import typing\n",
    "import numpy\n",
    "import pandas\n",
    "import re\n",
    "import networkx as nx"
   ]
  },
  {
   "cell_type": "code",
   "execution_count": 131,
   "metadata": {},
   "outputs": [],
   "source": [
    "dat = numpy.genfromtxt(\"C:/Users/V7-482PG/Desktop/p107_network.txt\", delimiter=\",\")"
   ]
  },
  {
   "cell_type": "code",
   "execution_count": 132,
   "metadata": {},
   "outputs": [],
   "source": [
    "dat = numpy.matrix(numpy.nan_to_num(dat,0))"
   ]
  },
  {
   "cell_type": "code",
   "execution_count": 133,
   "metadata": {},
   "outputs": [],
   "source": [
    "G = nx.from_numpy_matrix(dat)"
   ]
  },
  {
   "cell_type": "code",
   "execution_count": 168,
   "metadata": {},
   "outputs": [
    {
     "data": {
      "text/plain": [
       "[(0, 18, {'weight': 131.0}),\n",
       " (0, 31, {'weight': 56.0}),\n",
       " (1, 16, {'weight': 122.0}),\n",
       " (1, 37, {'weight': 102.0}),\n",
       " (2, 9, {'weight': 47.0}),\n",
       " (2, 26, {'weight': 108.0}),\n",
       " (3, 9, {'weight': 32.0}),\n",
       " (3, 38, {'weight': 76.0}),\n",
       " (4, 35, {'weight': 19.0}),\n",
       " (5, 23, {'weight': 66.0}),\n",
       " (5, 25, {'weight': 27.0}),\n",
       " (5, 34, {'weight': 33.0}),\n",
       " (5, 36, {'weight': 54.0}),\n",
       " (6, 10, {'weight': 42.0}),\n",
       " (7, 9, {'weight': 35.0}),\n",
       " (8, 15, {'weight': 36.0}),\n",
       " (8, 24, {'weight': 53.0}),\n",
       " (9, 10, {'weight': 50.0}),\n",
       " (9, 13, {'weight': 36.0}),\n",
       " (9, 29, {'weight': 25.0}),\n",
       " (10, 19, {'weight': 53.0}),\n",
       " (10, 33, {'weight': 7.0}),\n",
       " (11, 17, {'weight': 41.0}),\n",
       " (11, 21, {'weight': 104.0}),\n",
       " (12, 29, {'weight': 68.0}),\n",
       " (13, 39, {'weight': 17.0}),\n",
       " (14, 26, {'weight': 89.0}),\n",
       " (15, 31, {'weight': 68.0}),\n",
       " (16, 18, {'weight': 73.0}),\n",
       " (20, 28, {'weight': 27.0}),\n",
       " (20, 30, {'weight': 80.0}),\n",
       " (21, 36, {'weight': 1.0}),\n",
       " (22, 28, {'weight': 83.0}),\n",
       " (26, 32, {'weight': 102.0}),\n",
       " (27, 34, {'weight': 6.0}),\n",
       " (28, 34, {'weight': 9.0}),\n",
       " (28, 37, {'weight': 48.0}),\n",
       " (29, 37, {'weight': 36.0}),\n",
       " (35, 36, {'weight': 91.0})]"
      ]
     },
     "execution_count": 168,
     "metadata": {},
     "output_type": "execute_result"
    }
   ],
   "source": [
    "T=nx.minimum_spanning_tree(G)\n",
    "\n",
    "\n",
    "sorted(T.edges(data=True))"
   ]
  },
  {
   "cell_type": "code",
   "execution_count": null,
   "metadata": {
    "collapsed": true
   },
   "outputs": [],
   "source": []
  }
 ],
 "metadata": {
  "kernelspec": {
   "display_name": "Python 2",
   "language": "python",
   "name": "python2"
  },
  "language_info": {
   "codemirror_mode": {
    "name": "ipython",
    "version": 2
   },
   "file_extension": ".py",
   "mimetype": "text/x-python",
   "name": "python",
   "nbconvert_exporter": "python",
   "pygments_lexer": "ipython2",
   "version": "2.7.14"
  }
 },
 "nbformat": 4,
 "nbformat_minor": 2
}
